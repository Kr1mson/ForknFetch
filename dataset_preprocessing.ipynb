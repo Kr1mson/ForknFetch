{
 "cells": [
  {
   "cell_type": "code",
   "execution_count": 1,
   "id": "36888846",
   "metadata": {},
   "outputs": [],
   "source": [
    "import pandas as pd\n",
    "import json"
   ]
  },
  {
   "cell_type": "code",
   "execution_count": 2,
   "id": "274dc565",
   "metadata": {},
   "outputs": [],
   "source": [
    "paths=['recipes_raw_nosource_fn.json','recipes_raw_nosource_ar.json','recipes_raw_nosource_epi.json']\n",
    "all_recipes = []"
   ]
  },
  {
   "cell_type": "code",
   "execution_count": 3,
   "id": "55682460",
   "metadata": {},
   "outputs": [],
   "source": [
    "for path in paths:\n",
    "    with open(path, 'r') as file:\n",
    "        data = json.load(file)\n",
    "        recipes = list(data.values())  \n",
    "        all_recipes.extend(recipes)\n",
    "df_all = pd.json_normalize(all_recipes)"
   ]
  },
  {
   "cell_type": "code",
   "execution_count": 5,
   "id": "6b85432c",
   "metadata": {},
   "outputs": [
    {
     "data": {
      "text/plain": [
       "(125164, 4)"
      ]
     },
     "execution_count": 5,
     "metadata": {},
     "output_type": "execute_result"
    }
   ],
   "source": [
    "df_all.shape"
   ]
  },
  {
   "cell_type": "code",
   "execution_count": 6,
   "id": "dd6370c3",
   "metadata": {},
   "outputs": [],
   "source": [
    "df_cleaned = df_all.dropna(subset=['instructions', 'ingredients', 'title'])\n",
    "df_cleaned.reset_index(drop=True, inplace\n",
    "                       =True)"
   ]
  },
  {
   "cell_type": "code",
   "execution_count": 4,
   "id": "e70b3ce9",
   "metadata": {},
   "outputs": [
    {
     "ename": "NameError",
     "evalue": "name 'df_cleaned' is not defined",
     "output_type": "error",
     "traceback": [
      "\u001b[1;31m---------------------------------------------------------------------------\u001b[0m",
      "\u001b[1;31mNameError\u001b[0m                                 Traceback (most recent call last)",
      "Cell \u001b[1;32mIn[4], line 1\u001b[0m\n\u001b[1;32m----> 1\u001b[0m \u001b[43mdf_cleaned\u001b[49m\u001b[38;5;241m.\u001b[39mshape\n",
      "\u001b[1;31mNameError\u001b[0m: name 'df_cleaned' is not defined"
     ]
    }
   ],
   "source": [
    "df_cleaned.shape"
   ]
  },
  {
   "cell_type": "code",
   "execution_count": 40,
   "id": "8698f7eb",
   "metadata": {},
   "outputs": [
    {
     "data": {
      "text/html": [
       "<div>\n",
       "<style scoped>\n",
       "    .dataframe tbody tr th:only-of-type {\n",
       "        vertical-align: middle;\n",
       "    }\n",
       "\n",
       "    .dataframe tbody tr th {\n",
       "        vertical-align: top;\n",
       "    }\n",
       "\n",
       "    .dataframe thead th {\n",
       "        text-align: right;\n",
       "    }\n",
       "</style>\n",
       "<table border=\"1\" class=\"dataframe\">\n",
       "  <thead>\n",
       "    <tr style=\"text-align: right;\">\n",
       "      <th></th>\n",
       "      <th>instructions</th>\n",
       "      <th>ingredients</th>\n",
       "      <th>title</th>\n",
       "      <th>picture_link</th>\n",
       "    </tr>\n",
       "  </thead>\n",
       "  <tbody>\n",
       "    <tr>\n",
       "      <th>248941</th>\n",
       "      <td>Bring 4 cups broth and lentils to boil in larg...</td>\n",
       "      <td>[5 cups (about) canned beef broth, 1 cup lenti...</td>\n",
       "      <td>Spinach and Lentil Soup</td>\n",
       "      <td>None</td>\n",
       "    </tr>\n",
       "    <tr>\n",
       "      <th>248942</th>\n",
       "      <td>Stir together turmeric, 1 1/2 cups water, and ...</td>\n",
       "      <td>[1/2 teaspoon turmeric, 2 cups water, 3/4 poun...</td>\n",
       "      <td>Fresh Cheese with Spinach</td>\n",
       "      <td>16DvpBiksnvbWPCSdZUcPY3oFvgo0py</td>\n",
       "    </tr>\n",
       "    <tr>\n",
       "      <th>248943</th>\n",
       "      <td>Marinate and cook the steak: Combine jalapeño,...</td>\n",
       "      <td>[1 medium jalapeño, thinly sliced, 2 garlic cl...</td>\n",
       "      <td>Jalapeño and Lime–Marinated Skirt Steak Tacos</td>\n",
       "      <td>m6IALrfAOr5KDVpqKcvUNpa7VermSIq</td>\n",
       "    </tr>\n",
       "    <tr>\n",
       "      <th>248944</th>\n",
       "      <td>Make the cakes: Preheat oven to 350°F. Line th...</td>\n",
       "      <td>[1 1/2 cups almond flour or almond meal, 1/2 c...</td>\n",
       "      <td>Semolina–Lemon Syrup Cakes</td>\n",
       "      <td>wq1Cqtl16W8QpuFaXrDdB2kGsUn9Ku6</td>\n",
       "    </tr>\n",
       "    <tr>\n",
       "      <th>248945</th>\n",
       "      <td>Preheat oven to 400°F. Combine plum tomatoes, ...</td>\n",
       "      <td>[1 1/2 pounds plum tomatoes, coarsely chopped ...</td>\n",
       "      <td>Chicken Cacciatore</td>\n",
       "      <td>DIZQ16bhYvwR7yKtaNOQf3XkgD0vbCK</td>\n",
       "    </tr>\n",
       "  </tbody>\n",
       "</table>\n",
       "</div>"
      ],
      "text/plain": [
       "                                             instructions  \\\n",
       "248941  Bring 4 cups broth and lentils to boil in larg...   \n",
       "248942  Stir together turmeric, 1 1/2 cups water, and ...   \n",
       "248943  Marinate and cook the steak: Combine jalapeño,...   \n",
       "248944  Make the cakes: Preheat oven to 350°F. Line th...   \n",
       "248945  Preheat oven to 400°F. Combine plum tomatoes, ...   \n",
       "\n",
       "                                              ingredients  \\\n",
       "248941  [5 cups (about) canned beef broth, 1 cup lenti...   \n",
       "248942  [1/2 teaspoon turmeric, 2 cups water, 3/4 poun...   \n",
       "248943  [1 medium jalapeño, thinly sliced, 2 garlic cl...   \n",
       "248944  [1 1/2 cups almond flour or almond meal, 1/2 c...   \n",
       "248945  [1 1/2 pounds plum tomatoes, coarsely chopped ...   \n",
       "\n",
       "                                                 title  \\\n",
       "248941                        Spinach and Lentil Soup    \n",
       "248942                      Fresh Cheese with Spinach    \n",
       "248943  Jalapeño and Lime–Marinated Skirt Steak Tacos    \n",
       "248944                     Semolina–Lemon Syrup Cakes    \n",
       "248945                             Chicken Cacciatore    \n",
       "\n",
       "                           picture_link  \n",
       "248941                             None  \n",
       "248942  16DvpBiksnvbWPCSdZUcPY3oFvgo0py  \n",
       "248943  m6IALrfAOr5KDVpqKcvUNpa7VermSIq  \n",
       "248944  wq1Cqtl16W8QpuFaXrDdB2kGsUn9Ku6  \n",
       "248945  DIZQ16bhYvwR7yKtaNOQf3XkgD0vbCK  "
      ]
     },
     "execution_count": 40,
     "metadata": {},
     "output_type": "execute_result"
    }
   ],
   "source": [
    "df_cleaned.tail()"
   ]
  },
  {
   "cell_type": "code",
   "execution_count": 41,
   "id": "3bb649a6",
   "metadata": {},
   "outputs": [
    {
     "data": {
      "text/plain": [
       "instructions        0\n",
       "ingredients         0\n",
       "title               0\n",
       "picture_link    83814\n",
       "dtype: int64"
      ]
     },
     "execution_count": 41,
     "metadata": {},
     "output_type": "execute_result"
    }
   ],
   "source": [
    "df_cleaned.isnull().sum()"
   ]
  },
  {
   "cell_type": "code",
   "execution_count": 44,
   "id": "06e5bffe",
   "metadata": {},
   "outputs": [
    {
     "name": "stderr",
     "output_type": "stream",
     "text": [
      "C:\\Users\\parth\\AppData\\Local\\Temp\\ipykernel_18620\\909160891.py:1: SettingWithCopyWarning: \n",
      "A value is trying to be set on a copy of a slice from a DataFrame.\n",
      "Try using .loc[row_indexer,col_indexer] = value instead\n",
      "\n",
      "See the caveats in the documentation: https://pandas.pydata.org/pandas-docs/stable/user_guide/indexing.html#returning-a-view-versus-a-copy\n",
      "  df_cleaned['ingredients'] = df_cleaned['ingredients'].apply(lambda x: ', '.join(x) if isinstance(x, list) else str(x))\n",
      "C:\\Users\\parth\\AppData\\Local\\Temp\\ipykernel_18620\\909160891.py:2: SettingWithCopyWarning: \n",
      "A value is trying to be set on a copy of a slice from a DataFrame.\n",
      "Try using .loc[row_indexer,col_indexer] = value instead\n",
      "\n",
      "See the caveats in the documentation: https://pandas.pydata.org/pandas-docs/stable/user_guide/indexing.html#returning-a-view-versus-a-copy\n",
      "  df_cleaned['instructions'] = df_cleaned['instructions'].apply(lambda x: ' '.join(x) if isinstance(x, list) else str(x))\n"
     ]
    }
   ],
   "source": [
    "df_cleaned['ingredients'] = df_cleaned['ingredients'].apply(lambda x: ', '.join(x) if isinstance(x, list) else str(x))\n",
    "df_cleaned['instructions'] = df_cleaned['instructions'].apply(lambda x: ' '.join(x) if isinstance(x, list) else str(x))"
   ]
  },
  {
   "cell_type": "code",
   "execution_count": null,
   "id": "192a321e",
   "metadata": {},
   "outputs": [
    {
     "name": "stderr",
     "output_type": "stream",
     "text": [
      "C:\\Users\\parth\\AppData\\Local\\Temp\\ipykernel_18620\\3226852848.py:1: SettingWithCopyWarning: \n",
      "A value is trying to be set on a copy of a slice from a DataFrame.\n",
      "Try using .loc[row_indexer,col_indexer] = value instead\n",
      "\n",
      "See the caveats in the documentation: https://pandas.pydata.org/pandas-docs/stable/user_guide/indexing.html#returning-a-view-versus-a-copy\n",
      "  df_cleaned['text'] = df_cleaned['title'] + '. '  + '. Ingredients: ' + df_cleaned['ingredients'].fillna('') + '. Instructions: ' + df_cleaned['instructions'].fillna('')\n"
     ]
    }
   ],
   "source": [
    "df_cleaned['text'] = df_cleaned['title'] + '. '  + '. Ingredients: ' + df_cleaned['ingredients'].fillna('') + '. Instructions: ' + df_cleaned['instructions'].fillna('')\n"
   ]
  },
  {
   "cell_type": "code",
   "execution_count": 49,
   "id": "ec1f55c3",
   "metadata": {},
   "outputs": [
    {
     "name": "stderr",
     "output_type": "stream",
     "text": [
      "C:\\Users\\parth\\AppData\\Local\\Temp\\ipykernel_18620\\2941020088.py:1: SettingWithCopyWarning: \n",
      "A value is trying to be set on a copy of a slice from a DataFrame.\n",
      "Try using .loc[row_indexer,col_indexer] = value instead\n",
      "\n",
      "See the caveats in the documentation: https://pandas.pydata.org/pandas-docs/stable/user_guide/indexing.html#returning-a-view-versus-a-copy\n",
      "  df_cleaned['text'] = df_cleaned['text'].str.replace('ADVERTISEMENT', '', regex=False)\n"
     ]
    }
   ],
   "source": [
    "df_cleaned['text'] = df_cleaned['text'].str.replace('ADVERTISEMENT', '', regex=False)\n"
   ]
  },
  {
   "cell_type": "code",
   "execution_count": 55,
   "id": "b4826e01",
   "metadata": {},
   "outputs": [
    {
     "data": {
      "text/plain": [
       "\"Perky Pear Pound Cake. . Ingredients: 1 cup unsalted butter, room temperature, plus more for pan, Flour, for pan, 2 cups sugar, 6 eggs, 3 1/2 cups sifted cake flour, 3 ripe pears, peeled, cored, and grated, 1 tablespoon pure vanilla bean paste (recommended: Nielsen-Massey), 2 tablespoons candied ginger puree (recommended: Royal Pacific), 1/2 cup pear brandy, divided, Pear preserves, heated and strained, for garnish, Chocolate Glaze, recipe follows, Marzipan pears with candied ginger leaves, for garnish, optional, 1/2 cup sugar, 1/4 cup light corn syrup, 4 ounces dark chocolate (recommended: Guittard), 5 tablespoons unsalted butter, 1/2 cup confectioners' sugar. Instructions: Grease and flour an 8-cup tube pan and set aside. Preheat oven to 325 degrees F.\\nIn the bowl of a mixer, cream butter and sugar together until fluffy. Add eggs, 1 at a time, until incorporated. Slowly stir in flour, being careful not to over-beat. Add pears, vanilla bean paste, candied ginger puree, and 1/4 cup pear brandy; mix well. Transfer to prepared pan and bake for 50 minutes to 1 hour, or until a toothpick inserted in the center comes out clean. Cool in the pan for 10 minutes and then unmold onto a cooling rack. Cool completely. Douse with another 1/4 cup pear brandy then glaze with warmed pear preserves. Let pear glaze set. Pour Chocolate Glaze over. When set, remove cake from cooling rack and place it on a serving plate. Garnish with marzipan pears with candied ginger leaves, if desired.\\nHeat sugar and corn syrup together in a small saucepan over medium-low heat until sugar is dissolved. Add chocolate and remove from heat. Stir in butter gradually, and then add confectioner's sugar. Cool slightly and pour over cake.\""
      ]
     },
     "execution_count": 55,
     "metadata": {},
     "output_type": "execute_result"
    }
   ],
   "source": [
    "df_cleaned['text'].iloc[10000]"
   ]
  },
  {
   "cell_type": "code",
   "execution_count": null,
   "id": "1157f6f4",
   "metadata": {},
   "outputs": [
    {
     "data": {
      "text/plain": [
       "(50000, 5)"
      ]
     },
     "execution_count": 57,
     "metadata": {},
     "output_type": "execute_result"
    }
   ],
   "source": [
    "df_cleaned.shape"
   ]
  },
  {
   "cell_type": "code",
   "execution_count": 58,
   "id": "37d43440",
   "metadata": {},
   "outputs": [],
   "source": [
    "df_cleaned.to_csv('recipes_cleaned.csv', index=False)"
   ]
  },
  {
   "cell_type": "code",
   "execution_count": null,
   "id": "30f5c480",
   "metadata": {},
   "outputs": [],
   "source": [
    "  "
   ]
  }
 ],
 "metadata": {
  "kernelspec": {
   "display_name": "Python 3",
   "language": "python",
   "name": "python3"
  },
  "language_info": {
   "codemirror_mode": {
    "name": "ipython",
    "version": 3
   },
   "file_extension": ".py",
   "mimetype": "text/x-python",
   "name": "python",
   "nbconvert_exporter": "python",
   "pygments_lexer": "ipython3",
   "version": "3.11.5"
  }
 },
 "nbformat": 4,
 "nbformat_minor": 5
}
