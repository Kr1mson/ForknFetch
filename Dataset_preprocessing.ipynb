{
  "cells": [
    {
      "cell_type": "code",
      "execution_count": null,
      "id": "36888846",
      "metadata": {
        "id": "36888846"
      },
      "outputs": [],
      "source": [
        "import pandas as pd\n",
        "import json"
      ]
    },
    {
      "cell_type": "code",
      "execution_count": null,
      "id": "274dc565",
      "metadata": {
        "id": "274dc565"
      },
      "outputs": [],
      "source": [
        "paths=['recipes_raw_nosource_fn.json','recipes_raw_nosource_ar.json','recipes_raw_nosource_epi.json']\n",
        "all_recipes = []"
      ]
    },
    {
      "cell_type": "code",
      "execution_count": null,
      "id": "55682460",
      "metadata": {
        "id": "55682460"
      },
      "outputs": [],
      "source": [
        "for path in paths:\n",
        "    with open(path, 'r') as file:\n",
        "        data = json.load(file)\n",
        "        recipes = list(data.values())\n",
        "        all_recipes.extend(recipes)\n",
        "df_all = pd.json_normalize(all_recipes)"
      ]
    },
    {
      "cell_type": "code",
      "execution_count": null,
      "id": "6b85432c",
      "metadata": {
        "colab": {
          "base_uri": "https://localhost:8080/"
        },
        "id": "6b85432c",
        "outputId": "061fa09b-1f0e-4773-ce26-eff49b640bb1"
      },
      "outputs": [
        {
          "output_type": "execute_result",
          "data": {
            "text/plain": [
              "(125164, 4)"
            ]
          },
          "metadata": {},
          "execution_count": 4
        }
      ],
      "source": [
        "df_all.shape"
      ]
    },
    {
      "cell_type": "code",
      "execution_count": null,
      "id": "dd6370c3",
      "metadata": {
        "id": "dd6370c3"
      },
      "outputs": [],
      "source": [
        "df_cleaned = df_all.dropna(subset=['instructions', 'ingredients', 'title'])\n",
        "df_cleaned.reset_index(drop=True, inplace\n",
        "                       =True)"
      ]
    },
    {
      "cell_type": "code",
      "execution_count": null,
      "id": "e70b3ce9",
      "metadata": {
        "colab": {
          "base_uri": "https://localhost:8080/"
        },
        "id": "e70b3ce9",
        "outputId": "6256ac83-cd37-4ca7-d503-5914f3a9e546"
      },
      "outputs": [
        {
          "output_type": "execute_result",
          "data": {
            "text/plain": [
              "(124473, 4)"
            ]
          },
          "metadata": {},
          "execution_count": 6
        }
      ],
      "source": [
        "df_cleaned.shape"
      ]
    },
    {
      "cell_type": "code",
      "execution_count": null,
      "id": "8698f7eb",
      "metadata": {
        "colab": {
          "base_uri": "https://localhost:8080/",
          "height": 293
        },
        "id": "8698f7eb",
        "outputId": "3dfd0f89-2d56-4418-806d-30c69609ac34"
      },
      "outputs": [
        {
          "output_type": "execute_result",
          "data": {
            "text/plain": [
              "                                             instructions  \\\n",
              "124468  Bring 4 cups broth and lentils to boil in larg...   \n",
              "124469  Stir together turmeric, 1 1/2 cups water, and ...   \n",
              "124470  Marinate and cook the steak: Combine jalapeño,...   \n",
              "124471  Make the cakes: Preheat oven to 350°F. Line th...   \n",
              "124472  Preheat oven to 400°F. Combine plum tomatoes, ...   \n",
              "\n",
              "                                              ingredients  \\\n",
              "124468  [5 cups (about) canned beef broth, 1 cup lenti...   \n",
              "124469  [1/2 teaspoon turmeric, 2 cups water, 3/4 poun...   \n",
              "124470  [1 medium jalapeño, thinly sliced, 2 garlic cl...   \n",
              "124471  [1 1/2 cups almond flour or almond meal, 1/2 c...   \n",
              "124472  [1 1/2 pounds plum tomatoes, coarsely chopped ...   \n",
              "\n",
              "                                                 title  \\\n",
              "124468                        Spinach and Lentil Soup    \n",
              "124469                      Fresh Cheese with Spinach    \n",
              "124470  Jalapeño and Lime–Marinated Skirt Steak Tacos    \n",
              "124471                     Semolina–Lemon Syrup Cakes    \n",
              "124472                             Chicken Cacciatore    \n",
              "\n",
              "                           picture_link  \n",
              "124468                             None  \n",
              "124469  16DvpBiksnvbWPCSdZUcPY3oFvgo0py  \n",
              "124470  m6IALrfAOr5KDVpqKcvUNpa7VermSIq  \n",
              "124471  wq1Cqtl16W8QpuFaXrDdB2kGsUn9Ku6  \n",
              "124472  DIZQ16bhYvwR7yKtaNOQf3XkgD0vbCK  "
            ],
            "text/html": [
              "\n",
              "  <div id=\"df-4415eeb3-fc11-45b7-b03b-eee21bd1d3a2\" class=\"colab-df-container\">\n",
              "    <div>\n",
              "<style scoped>\n",
              "    .dataframe tbody tr th:only-of-type {\n",
              "        vertical-align: middle;\n",
              "    }\n",
              "\n",
              "    .dataframe tbody tr th {\n",
              "        vertical-align: top;\n",
              "    }\n",
              "\n",
              "    .dataframe thead th {\n",
              "        text-align: right;\n",
              "    }\n",
              "</style>\n",
              "<table border=\"1\" class=\"dataframe\">\n",
              "  <thead>\n",
              "    <tr style=\"text-align: right;\">\n",
              "      <th></th>\n",
              "      <th>instructions</th>\n",
              "      <th>ingredients</th>\n",
              "      <th>title</th>\n",
              "      <th>picture_link</th>\n",
              "    </tr>\n",
              "  </thead>\n",
              "  <tbody>\n",
              "    <tr>\n",
              "      <th>124468</th>\n",
              "      <td>Bring 4 cups broth and lentils to boil in larg...</td>\n",
              "      <td>[5 cups (about) canned beef broth, 1 cup lenti...</td>\n",
              "      <td>Spinach and Lentil Soup</td>\n",
              "      <td>None</td>\n",
              "    </tr>\n",
              "    <tr>\n",
              "      <th>124469</th>\n",
              "      <td>Stir together turmeric, 1 1/2 cups water, and ...</td>\n",
              "      <td>[1/2 teaspoon turmeric, 2 cups water, 3/4 poun...</td>\n",
              "      <td>Fresh Cheese with Spinach</td>\n",
              "      <td>16DvpBiksnvbWPCSdZUcPY3oFvgo0py</td>\n",
              "    </tr>\n",
              "    <tr>\n",
              "      <th>124470</th>\n",
              "      <td>Marinate and cook the steak: Combine jalapeño,...</td>\n",
              "      <td>[1 medium jalapeño, thinly sliced, 2 garlic cl...</td>\n",
              "      <td>Jalapeño and Lime–Marinated Skirt Steak Tacos</td>\n",
              "      <td>m6IALrfAOr5KDVpqKcvUNpa7VermSIq</td>\n",
              "    </tr>\n",
              "    <tr>\n",
              "      <th>124471</th>\n",
              "      <td>Make the cakes: Preheat oven to 350°F. Line th...</td>\n",
              "      <td>[1 1/2 cups almond flour or almond meal, 1/2 c...</td>\n",
              "      <td>Semolina–Lemon Syrup Cakes</td>\n",
              "      <td>wq1Cqtl16W8QpuFaXrDdB2kGsUn9Ku6</td>\n",
              "    </tr>\n",
              "    <tr>\n",
              "      <th>124472</th>\n",
              "      <td>Preheat oven to 400°F. Combine plum tomatoes, ...</td>\n",
              "      <td>[1 1/2 pounds plum tomatoes, coarsely chopped ...</td>\n",
              "      <td>Chicken Cacciatore</td>\n",
              "      <td>DIZQ16bhYvwR7yKtaNOQf3XkgD0vbCK</td>\n",
              "    </tr>\n",
              "  </tbody>\n",
              "</table>\n",
              "</div>\n",
              "    <div class=\"colab-df-buttons\">\n",
              "\n",
              "  <div class=\"colab-df-container\">\n",
              "    <button class=\"colab-df-convert\" onclick=\"convertToInteractive('df-4415eeb3-fc11-45b7-b03b-eee21bd1d3a2')\"\n",
              "            title=\"Convert this dataframe to an interactive table.\"\n",
              "            style=\"display:none;\">\n",
              "\n",
              "  <svg xmlns=\"http://www.w3.org/2000/svg\" height=\"24px\" viewBox=\"0 -960 960 960\">\n",
              "    <path d=\"M120-120v-720h720v720H120Zm60-500h600v-160H180v160Zm220 220h160v-160H400v160Zm0 220h160v-160H400v160ZM180-400h160v-160H180v160Zm440 0h160v-160H620v160ZM180-180h160v-160H180v160Zm440 0h160v-160H620v160Z\"/>\n",
              "  </svg>\n",
              "    </button>\n",
              "\n",
              "  <style>\n",
              "    .colab-df-container {\n",
              "      display:flex;\n",
              "      gap: 12px;\n",
              "    }\n",
              "\n",
              "    .colab-df-convert {\n",
              "      background-color: #E8F0FE;\n",
              "      border: none;\n",
              "      border-radius: 50%;\n",
              "      cursor: pointer;\n",
              "      display: none;\n",
              "      fill: #1967D2;\n",
              "      height: 32px;\n",
              "      padding: 0 0 0 0;\n",
              "      width: 32px;\n",
              "    }\n",
              "\n",
              "    .colab-df-convert:hover {\n",
              "      background-color: #E2EBFA;\n",
              "      box-shadow: 0px 1px 2px rgba(60, 64, 67, 0.3), 0px 1px 3px 1px rgba(60, 64, 67, 0.15);\n",
              "      fill: #174EA6;\n",
              "    }\n",
              "\n",
              "    .colab-df-buttons div {\n",
              "      margin-bottom: 4px;\n",
              "    }\n",
              "\n",
              "    [theme=dark] .colab-df-convert {\n",
              "      background-color: #3B4455;\n",
              "      fill: #D2E3FC;\n",
              "    }\n",
              "\n",
              "    [theme=dark] .colab-df-convert:hover {\n",
              "      background-color: #434B5C;\n",
              "      box-shadow: 0px 1px 3px 1px rgba(0, 0, 0, 0.15);\n",
              "      filter: drop-shadow(0px 1px 2px rgba(0, 0, 0, 0.3));\n",
              "      fill: #FFFFFF;\n",
              "    }\n",
              "  </style>\n",
              "\n",
              "    <script>\n",
              "      const buttonEl =\n",
              "        document.querySelector('#df-4415eeb3-fc11-45b7-b03b-eee21bd1d3a2 button.colab-df-convert');\n",
              "      buttonEl.style.display =\n",
              "        google.colab.kernel.accessAllowed ? 'block' : 'none';\n",
              "\n",
              "      async function convertToInteractive(key) {\n",
              "        const element = document.querySelector('#df-4415eeb3-fc11-45b7-b03b-eee21bd1d3a2');\n",
              "        const dataTable =\n",
              "          await google.colab.kernel.invokeFunction('convertToInteractive',\n",
              "                                                    [key], {});\n",
              "        if (!dataTable) return;\n",
              "\n",
              "        const docLinkHtml = 'Like what you see? Visit the ' +\n",
              "          '<a target=\"_blank\" href=https://colab.research.google.com/notebooks/data_table.ipynb>data table notebook</a>'\n",
              "          + ' to learn more about interactive tables.';\n",
              "        element.innerHTML = '';\n",
              "        dataTable['output_type'] = 'display_data';\n",
              "        await google.colab.output.renderOutput(dataTable, element);\n",
              "        const docLink = document.createElement('div');\n",
              "        docLink.innerHTML = docLinkHtml;\n",
              "        element.appendChild(docLink);\n",
              "      }\n",
              "    </script>\n",
              "  </div>\n",
              "\n",
              "\n",
              "    <div id=\"df-987a2e56-b7cb-472e-a806-fe9dacec6291\">\n",
              "      <button class=\"colab-df-quickchart\" onclick=\"quickchart('df-987a2e56-b7cb-472e-a806-fe9dacec6291')\"\n",
              "                title=\"Suggest charts\"\n",
              "                style=\"display:none;\">\n",
              "\n",
              "<svg xmlns=\"http://www.w3.org/2000/svg\" height=\"24px\"viewBox=\"0 0 24 24\"\n",
              "     width=\"24px\">\n",
              "    <g>\n",
              "        <path d=\"M19 3H5c-1.1 0-2 .9-2 2v14c0 1.1.9 2 2 2h14c1.1 0 2-.9 2-2V5c0-1.1-.9-2-2-2zM9 17H7v-7h2v7zm4 0h-2V7h2v10zm4 0h-2v-4h2v4z\"/>\n",
              "    </g>\n",
              "</svg>\n",
              "      </button>\n",
              "\n",
              "<style>\n",
              "  .colab-df-quickchart {\n",
              "      --bg-color: #E8F0FE;\n",
              "      --fill-color: #1967D2;\n",
              "      --hover-bg-color: #E2EBFA;\n",
              "      --hover-fill-color: #174EA6;\n",
              "      --disabled-fill-color: #AAA;\n",
              "      --disabled-bg-color: #DDD;\n",
              "  }\n",
              "\n",
              "  [theme=dark] .colab-df-quickchart {\n",
              "      --bg-color: #3B4455;\n",
              "      --fill-color: #D2E3FC;\n",
              "      --hover-bg-color: #434B5C;\n",
              "      --hover-fill-color: #FFFFFF;\n",
              "      --disabled-bg-color: #3B4455;\n",
              "      --disabled-fill-color: #666;\n",
              "  }\n",
              "\n",
              "  .colab-df-quickchart {\n",
              "    background-color: var(--bg-color);\n",
              "    border: none;\n",
              "    border-radius: 50%;\n",
              "    cursor: pointer;\n",
              "    display: none;\n",
              "    fill: var(--fill-color);\n",
              "    height: 32px;\n",
              "    padding: 0;\n",
              "    width: 32px;\n",
              "  }\n",
              "\n",
              "  .colab-df-quickchart:hover {\n",
              "    background-color: var(--hover-bg-color);\n",
              "    box-shadow: 0 1px 2px rgba(60, 64, 67, 0.3), 0 1px 3px 1px rgba(60, 64, 67, 0.15);\n",
              "    fill: var(--button-hover-fill-color);\n",
              "  }\n",
              "\n",
              "  .colab-df-quickchart-complete:disabled,\n",
              "  .colab-df-quickchart-complete:disabled:hover {\n",
              "    background-color: var(--disabled-bg-color);\n",
              "    fill: var(--disabled-fill-color);\n",
              "    box-shadow: none;\n",
              "  }\n",
              "\n",
              "  .colab-df-spinner {\n",
              "    border: 2px solid var(--fill-color);\n",
              "    border-color: transparent;\n",
              "    border-bottom-color: var(--fill-color);\n",
              "    animation:\n",
              "      spin 1s steps(1) infinite;\n",
              "  }\n",
              "\n",
              "  @keyframes spin {\n",
              "    0% {\n",
              "      border-color: transparent;\n",
              "      border-bottom-color: var(--fill-color);\n",
              "      border-left-color: var(--fill-color);\n",
              "    }\n",
              "    20% {\n",
              "      border-color: transparent;\n",
              "      border-left-color: var(--fill-color);\n",
              "      border-top-color: var(--fill-color);\n",
              "    }\n",
              "    30% {\n",
              "      border-color: transparent;\n",
              "      border-left-color: var(--fill-color);\n",
              "      border-top-color: var(--fill-color);\n",
              "      border-right-color: var(--fill-color);\n",
              "    }\n",
              "    40% {\n",
              "      border-color: transparent;\n",
              "      border-right-color: var(--fill-color);\n",
              "      border-top-color: var(--fill-color);\n",
              "    }\n",
              "    60% {\n",
              "      border-color: transparent;\n",
              "      border-right-color: var(--fill-color);\n",
              "    }\n",
              "    80% {\n",
              "      border-color: transparent;\n",
              "      border-right-color: var(--fill-color);\n",
              "      border-bottom-color: var(--fill-color);\n",
              "    }\n",
              "    90% {\n",
              "      border-color: transparent;\n",
              "      border-bottom-color: var(--fill-color);\n",
              "    }\n",
              "  }\n",
              "</style>\n",
              "\n",
              "      <script>\n",
              "        async function quickchart(key) {\n",
              "          const quickchartButtonEl =\n",
              "            document.querySelector('#' + key + ' button');\n",
              "          quickchartButtonEl.disabled = true;  // To prevent multiple clicks.\n",
              "          quickchartButtonEl.classList.add('colab-df-spinner');\n",
              "          try {\n",
              "            const charts = await google.colab.kernel.invokeFunction(\n",
              "                'suggestCharts', [key], {});\n",
              "          } catch (error) {\n",
              "            console.error('Error during call to suggestCharts:', error);\n",
              "          }\n",
              "          quickchartButtonEl.classList.remove('colab-df-spinner');\n",
              "          quickchartButtonEl.classList.add('colab-df-quickchart-complete');\n",
              "        }\n",
              "        (() => {\n",
              "          let quickchartButtonEl =\n",
              "            document.querySelector('#df-987a2e56-b7cb-472e-a806-fe9dacec6291 button');\n",
              "          quickchartButtonEl.style.display =\n",
              "            google.colab.kernel.accessAllowed ? 'block' : 'none';\n",
              "        })();\n",
              "      </script>\n",
              "    </div>\n",
              "\n",
              "    </div>\n",
              "  </div>\n"
            ],
            "application/vnd.google.colaboratory.intrinsic+json": {
              "type": "dataframe",
              "summary": "{\n  \"name\": \"df_cleaned\",\n  \"rows\": 5,\n  \"fields\": [\n    {\n      \"column\": \"instructions\",\n      \"properties\": {\n        \"dtype\": \"string\",\n        \"num_unique_values\": 5,\n        \"samples\": [\n          \"Stir together turmeric, 1 1/2 cups water, and paneer and let stand 20 minutes. Drain cheese in a sieve and gently pat dry. Cook spinach in remaining 1/2 cup water in a large saucepan, covered, over moderately high heat until wilted and tender, about 2 minutes. Coarsely pur\\u00e9e spinach, without draining, in a food processor. Mash garlic with ginger to a paste. Heat 6 tablespoons ghee in a large nonstick skillet over moderately high heat until hot but not smoking, then brown paneer in 2 batches, gently turning to avoid breaking up and transferring to a bowl as browned. Add onions and saut\\u00e9, stirring, 5 minutes. Reduce heat to moderate. Add garlic paste and cook, stirring, until fragrant, about 1 minute. Add coriander, chile powder, asafetida, and cinnamon stick and cook, stirring occasionally, until onions are tender, 4 to 6 minutes. Add tomatoes and spinach pur\\u00e9e and simmer sauce, stirring occasionally, until thickened and almost all of liquid is evaporated, 2 to 4 minutes. Gently stir in paneer and salt to taste.\\nStir together turmeric, 1 1/2 cups water, and paneer and let stand 20 minutes. Drain cheese in a sieve and gently pat dry.\\nCook spinach in remaining 1/2 cup water in a large saucepan, covered, over moderately high heat until wilted and tender, about 2 minutes. Coarsely pur\\u00e9e spinach, without draining, in a food processor. Mash garlic with ginger to a paste.\\nHeat 6 tablespoons ghee in a large nonstick skillet over moderately high heat until hot but not smoking, then brown paneer in 2 batches, gently turning to avoid breaking up and transferring to a bowl as browned. Add onions and saut\\u00e9, stirring, 5 minutes. Reduce heat to moderate. Add garlic paste and cook, stirring, until fragrant, about 1 minute. Add coriander, chile powder, asafetida, and cinnamon stick and cook, stirring occasionally, until onions are tender, 4 to 6 minutes. Add tomatoes and spinach pur\\u00e9e and simmer sauce, stirring occasionally, until thickened and almost all of liquid is evaporated, 2 to 4 minutes. Gently stir in paneer and salt to taste.\",\n          \"Preheat oven to 400\\u00b0F. Combine plum tomatoes, mushrooms, and onion in large bowl. Add 3 tablespoons oil and vinegar; toss to blend. Sprinkle generously with salt and pepper. Spread vegetable mixture in single layer on large rimmed baking sheet. Roast until onion slices are golden brown and all vegetables are tender, stirring frequently, about 50 minutes. Remove from oven and set aside. Reduce oven temperature to 350\\u00b0F. Sprinkle chicken with salt, pepper, and 1 tablespoon rosemary. Heat remaining 2 tablespoons oil in heavy large deep ovenproof skillet over medium-high heat. Add chicken and saut\\u00e9 until golden brown, about 6 minutes per side. Transfer chicken to bowl. Add wine to skillet and boil until wine is reduced by half, scraping up browned bits, about 1 minute. Stir in canned tomatoes with juice, then broth and bring to boil. Reduce heat to medium and simmer 10 minutes to blend flavors. Return chicken to sauce in skillet. Place skillet in oven and roast uncovered until chicken is cooked through and juices run clear when pierced with knife, about 25 minutes. Remove skillet from oven. Stir in roasted vegetables, remaining 1/2 tablespoon rosemary, half of basil, and half of capers. Simmer over medium heat until vegetables are heated through. Season with salt and pepper. Place pasta in large shallow bowl. Top with chicken and sauce. Sprinkle remaining basil and capers over.\\nPreheat oven to 400\\u00b0F. Combine plum tomatoes, mushrooms, and onion in large bowl. Add 3 tablespoons oil and vinegar; toss to blend. Sprinkle generously with salt and pepper. Spread vegetable mixture in single layer on large rimmed baking sheet. Roast until onion slices are golden brown and all vegetables are tender, stirring frequently, about 50 minutes. Remove from oven and set aside. Reduce oven temperature to 350\\u00b0F.\\nSprinkle chicken with salt, pepper, and 1 tablespoon rosemary. Heat remaining 2 tablespoons oil in heavy large deep ovenproof skillet over medium-high heat. Add chicken and saut\\u00e9 until golden brown, about 6 minutes per side. Transfer chicken to bowl. Add wine to skillet and boil until wine is reduced by half, scraping up browned bits, about 1 minute. Stir in canned tomatoes with juice, then broth and bring to boil. Reduce heat to medium and simmer 10 minutes to blend flavors. Return chicken to sauce in skillet. Place skillet in oven and roast uncovered until chicken is cooked through and juices run clear when pierced with knife, about 25 minutes. Remove skillet from oven. Stir in roasted vegetables, remaining 1/2 tablespoon rosemary, half of basil, and half of capers. Simmer over medium heat until vegetables are heated through. Season with salt and pepper.\\nPlace pasta in large shallow bowl. Top with chicken and sauce. Sprinkle remaining basil and capers over.\",\n          \"Marinate and cook the steak: Combine jalape\\u00f1o, garlic, cilantro, lime juice, oil, salt, pepper, and cumin in a large resealable bag or bowl. Add steak and toss to coat; if using bowl, wrap with plastic. Marinate at least 30 minutes at room temperature or chill up to overnight in refrigerator, tossing occasionally. Let steak sit at room temperature 30 minutes before cooking if chilled. Prepare a grill or grill pan for medium-high heat. Remove steak from marinade, scraping off any bits that cling to meat; discard marinade. Grill steak 2\\u20133 minutes per side for medium rare. Let rest 10 minutes before thinly slicing against the grain.\\nCombine jalape\\u00f1o, garlic, cilantro, lime juice, oil, salt, pepper, and cumin in a large resealable bag or bowl. Add steak and toss to coat; if using bowl, wrap with plastic. Marinate at least 30 minutes at room temperature or chill up to overnight in refrigerator, tossing occasionally.\\nLet steak sit at room temperature 30 minutes before cooking if chilled. Prepare a grill or grill pan for medium-high heat. Remove steak from marinade, scraping off any bits that cling to meat; discard marinade. Grill steak 2\\u20133 minutes per side for medium rare. Let rest 10 minutes before thinly slicing against the grain.\\nAssemble the tacos: Warm tortillas in a microwave, oven, or over a gas flame. Divide steak among tortillas, then top with salsa, avocado, sour cream, queso fresco, if using, cilantro, and onion. Serve with lime wedges alongside.\\nWarm tortillas in a microwave, oven, or over a gas flame. Divide steak among tortillas, then top with salsa, avocado, sour cream, queso fresco, if using, cilantro, and onion. Serve with lime wedges alongside.\\nDo Ahead Steak can be marinated 1 day ahead; keep chilled.\\nSteak can be marinated 1 day ahead; keep chilled.\"\n        ],\n        \"semantic_type\": \"\",\n        \"description\": \"\"\n      }\n    },\n    {\n      \"column\": \"ingredients\",\n      \"properties\": {\n        \"dtype\": \"object\",\n        \"semantic_type\": \"\",\n        \"description\": \"\"\n      }\n    },\n    {\n      \"column\": \"title\",\n      \"properties\": {\n        \"dtype\": \"string\",\n        \"num_unique_values\": 5,\n        \"samples\": [\n          \"Fresh Cheese with Spinach \",\n          \"Chicken Cacciatore \",\n          \"Jalape\\u00f1o and Lime\\u2013Marinated Skirt Steak Tacos \"\n        ],\n        \"semantic_type\": \"\",\n        \"description\": \"\"\n      }\n    },\n    {\n      \"column\": \"picture_link\",\n      \"properties\": {\n        \"dtype\": \"string\",\n        \"num_unique_values\": 4,\n        \"samples\": [\n          \"m6IALrfAOr5KDVpqKcvUNpa7VermSIq\",\n          \"DIZQ16bhYvwR7yKtaNOQf3XkgD0vbCK\",\n          \"16DvpBiksnvbWPCSdZUcPY3oFvgo0py\"\n        ],\n        \"semantic_type\": \"\",\n        \"description\": \"\"\n      }\n    }\n  ]\n}"
            }
          },
          "metadata": {},
          "execution_count": 7
        }
      ],
      "source": [
        "df_cleaned.tail()"
      ]
    },
    {
      "cell_type": "code",
      "execution_count": null,
      "id": "3bb649a6",
      "metadata": {
        "colab": {
          "base_uri": "https://localhost:8080/",
          "height": 209
        },
        "id": "3bb649a6",
        "outputId": "9a6049be-0290-4d33-8b2d-45618c1b6fce"
      },
      "outputs": [
        {
          "output_type": "execute_result",
          "data": {
            "text/plain": [
              "instructions        0\n",
              "ingredients         0\n",
              "title               0\n",
              "picture_link    41907\n",
              "dtype: int64"
            ],
            "text/html": [
              "<div>\n",
              "<style scoped>\n",
              "    .dataframe tbody tr th:only-of-type {\n",
              "        vertical-align: middle;\n",
              "    }\n",
              "\n",
              "    .dataframe tbody tr th {\n",
              "        vertical-align: top;\n",
              "    }\n",
              "\n",
              "    .dataframe thead th {\n",
              "        text-align: right;\n",
              "    }\n",
              "</style>\n",
              "<table border=\"1\" class=\"dataframe\">\n",
              "  <thead>\n",
              "    <tr style=\"text-align: right;\">\n",
              "      <th></th>\n",
              "      <th>0</th>\n",
              "    </tr>\n",
              "  </thead>\n",
              "  <tbody>\n",
              "    <tr>\n",
              "      <th>instructions</th>\n",
              "      <td>0</td>\n",
              "    </tr>\n",
              "    <tr>\n",
              "      <th>ingredients</th>\n",
              "      <td>0</td>\n",
              "    </tr>\n",
              "    <tr>\n",
              "      <th>title</th>\n",
              "      <td>0</td>\n",
              "    </tr>\n",
              "    <tr>\n",
              "      <th>picture_link</th>\n",
              "      <td>41907</td>\n",
              "    </tr>\n",
              "  </tbody>\n",
              "</table>\n",
              "</div><br><label><b>dtype:</b> int64</label>"
            ]
          },
          "metadata": {},
          "execution_count": 8
        }
      ],
      "source": [
        "df_cleaned.isnull().sum()"
      ]
    },
    {
      "cell_type": "code",
      "execution_count": null,
      "id": "06e5bffe",
      "metadata": {
        "colab": {
          "base_uri": "https://localhost:8080/"
        },
        "id": "06e5bffe",
        "outputId": "cbf2f32b-a414-459e-bb5d-1027322a8b1a"
      },
      "outputs": [
        {
          "output_type": "stream",
          "name": "stderr",
          "text": [
            "<ipython-input-9-dd73829c6770>:1: SettingWithCopyWarning: \n",
            "A value is trying to be set on a copy of a slice from a DataFrame.\n",
            "Try using .loc[row_indexer,col_indexer] = value instead\n",
            "\n",
            "See the caveats in the documentation: https://pandas.pydata.org/pandas-docs/stable/user_guide/indexing.html#returning-a-view-versus-a-copy\n",
            "  df_cleaned['ingredients'] = df_cleaned['ingredients'].apply(lambda x: ', '.join(x) if isinstance(x, list) else str(x))\n",
            "<ipython-input-9-dd73829c6770>:2: SettingWithCopyWarning: \n",
            "A value is trying to be set on a copy of a slice from a DataFrame.\n",
            "Try using .loc[row_indexer,col_indexer] = value instead\n",
            "\n",
            "See the caveats in the documentation: https://pandas.pydata.org/pandas-docs/stable/user_guide/indexing.html#returning-a-view-versus-a-copy\n",
            "  df_cleaned['instructions'] = df_cleaned['instructions'].apply(lambda x: ' '.join(x) if isinstance(x, list) else str(x))\n"
          ]
        }
      ],
      "source": [
        "df_cleaned['ingredients'] = df_cleaned['ingredients'].apply(lambda x: ', '.join(x) if isinstance(x, list) else str(x))\n",
        "df_cleaned['instructions'] = df_cleaned['instructions'].apply(lambda x: ' '.join(x) if isinstance(x, list) else str(x))"
      ]
    },
    {
      "cell_type": "code",
      "execution_count": null,
      "id": "192a321e",
      "metadata": {
        "colab": {
          "base_uri": "https://localhost:8080/"
        },
        "id": "192a321e",
        "outputId": "695318cb-a1a0-4fb8-eab1-b399737cd500"
      },
      "outputs": [
        {
          "output_type": "stream",
          "name": "stderr",
          "text": [
            "<ipython-input-10-5852da888114>:1: SettingWithCopyWarning: \n",
            "A value is trying to be set on a copy of a slice from a DataFrame.\n",
            "Try using .loc[row_indexer,col_indexer] = value instead\n",
            "\n",
            "See the caveats in the documentation: https://pandas.pydata.org/pandas-docs/stable/user_guide/indexing.html#returning-a-view-versus-a-copy\n",
            "  df_cleaned['text'] = df_cleaned['title'] + '. '  + '. Ingredients: ' + df_cleaned['ingredients'].fillna('') + '. Instructions: ' + df_cleaned['instructions'].fillna('')\n"
          ]
        }
      ],
      "source": [
        "df_cleaned['text'] = df_cleaned['title'] + '. '  + '. Ingredients: ' + df_cleaned['ingredients'].fillna('') + '. Instructions: ' + df_cleaned['instructions'].fillna('')\n"
      ]
    },
    {
      "cell_type": "code",
      "execution_count": null,
      "id": "ec1f55c3",
      "metadata": {
        "colab": {
          "base_uri": "https://localhost:8080/"
        },
        "id": "ec1f55c3",
        "outputId": "e01ae7e2-1a95-4882-eaf3-9de7ecbefa60"
      },
      "outputs": [
        {
          "output_type": "stream",
          "name": "stderr",
          "text": [
            "<ipython-input-11-ae9649ff1f1f>:1: SettingWithCopyWarning: \n",
            "A value is trying to be set on a copy of a slice from a DataFrame.\n",
            "Try using .loc[row_indexer,col_indexer] = value instead\n",
            "\n",
            "See the caveats in the documentation: https://pandas.pydata.org/pandas-docs/stable/user_guide/indexing.html#returning-a-view-versus-a-copy\n",
            "  df_cleaned['text'] = df_cleaned['text'].str.replace('ADVERTISEMENT', '', regex=False)\n"
          ]
        }
      ],
      "source": [
        "df_cleaned['text'] = df_cleaned['text'].str.replace('ADVERTISEMENT', '', regex=False)\n"
      ]
    },
    {
      "cell_type": "code",
      "execution_count": null,
      "id": "b4826e01",
      "metadata": {
        "colab": {
          "base_uri": "https://localhost:8080/",
          "height": 140
        },
        "id": "b4826e01",
        "outputId": "259c1819-468a-4890-9a9d-ce033a7e4d55"
      },
      "outputs": [
        {
          "output_type": "execute_result",
          "data": {
            "text/plain": [
              "\"Perky Pear Pound Cake. . Ingredients: 1 cup unsalted butter, room temperature, plus more for pan, Flour, for pan, 2 cups sugar, 6 eggs, 3 1/2 cups sifted cake flour, 3 ripe pears, peeled, cored, and grated, 1 tablespoon pure vanilla bean paste (recommended: Nielsen-Massey), 2 tablespoons candied ginger puree (recommended: Royal Pacific), 1/2 cup pear brandy, divided, Pear preserves, heated and strained, for garnish, Chocolate Glaze, recipe follows, Marzipan pears with candied ginger leaves, for garnish, optional, 1/2 cup sugar, 1/4 cup light corn syrup, 4 ounces dark chocolate (recommended: Guittard), 5 tablespoons unsalted butter, 1/2 cup confectioners' sugar. Instructions: Grease and flour an 8-cup tube pan and set aside. Preheat oven to 325 degrees F.\\nIn the bowl of a mixer, cream butter and sugar together until fluffy. Add eggs, 1 at a time, until incorporated. Slowly stir in flour, being careful not to over-beat. Add pears, vanilla bean paste, candied ginger puree, and 1/4 cup pear brandy; mix well. Transfer to prepared pan and bake for 50 minutes to 1 hour, or until a toothpick inserted in the center comes out clean. Cool in the pan for 10 minutes and then unmold onto a cooling rack. Cool completely. Douse with another 1/4 cup pear brandy then glaze with warmed pear preserves. Let pear glaze set. Pour Chocolate Glaze over. When set, remove cake from cooling rack and place it on a serving plate. Garnish with marzipan pears with candied ginger leaves, if desired.\\nHeat sugar and corn syrup together in a small saucepan over medium-low heat until sugar is dissolved. Add chocolate and remove from heat. Stir in butter gradually, and then add confectioner's sugar. Cool slightly and pour over cake.\""
            ],
            "application/vnd.google.colaboratory.intrinsic+json": {
              "type": "string"
            }
          },
          "metadata": {},
          "execution_count": 12
        }
      ],
      "source": [
        "df_cleaned['text'].iloc[10000]"
      ]
    },
    {
      "cell_type": "code",
      "execution_count": null,
      "id": "1157f6f4",
      "metadata": {
        "colab": {
          "base_uri": "https://localhost:8080/"
        },
        "id": "1157f6f4",
        "outputId": "eb772019-3bce-4a5b-cb06-66c466337077"
      },
      "outputs": [
        {
          "output_type": "execute_result",
          "data": {
            "text/plain": [
              "(124473, 5)"
            ]
          },
          "metadata": {},
          "execution_count": 13
        }
      ],
      "source": [
        "df_cleaned.shape"
      ]
    },
    {
      "cell_type": "code",
      "execution_count": null,
      "id": "37d43440",
      "metadata": {
        "id": "37d43440"
      },
      "outputs": [],
      "source": [
        "df_cleaned.to_csv('recipes_cleaned.csv', index=False)"
      ]
    },
    {
      "cell_type": "code",
      "execution_count": null,
      "id": "30f5c480",
      "metadata": {
        "id": "30f5c480"
      },
      "outputs": [],
      "source": []
    }
  ],
  "metadata": {
    "kernelspec": {
      "display_name": "Python 3",
      "name": "python3"
    },
    "language_info": {
      "codemirror_mode": {
        "name": "ipython",
        "version": 3
      },
      "file_extension": ".py",
      "mimetype": "text/x-python",
      "name": "python",
      "nbconvert_exporter": "python",
      "pygments_lexer": "ipython3",
      "version": "3.11.5"
    },
    "colab": {
      "provenance": [],
      "gpuType": "T4"
    },
    "accelerator": "GPU"
  },
  "nbformat": 4,
  "nbformat_minor": 5
}